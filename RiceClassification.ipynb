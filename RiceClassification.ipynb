{
  "cells": [
    {
      "cell_type": "markdown",
      "metadata": {
        "id": "0Et3PVTrHg1P"
      },
      "source": [
        "## Kaggle Load Dataset"
      ]
    },
    {
      "cell_type": "code",
      "execution_count": null,
      "metadata": {
        "id": "0Bq49a8FFd4H"
      },
      "outputs": [],
      "source": [
        "from google.colab import files\n",
        "#Upload Kaggle API Key\n",
        "files.upload()"
      ]
    },
    {
      "cell_type": "code",
      "execution_count": 2,
      "metadata": {
        "id": "auDwPqjXFh4W"
      },
      "outputs": [],
      "source": [
        "!mkdir ~/.kaggle \n",
        "!cp kaggle.json ~/.kaggle/ \n",
        "!chmod 600 ~/.kaggle/kaggle.json\n",
        "# !kaggle datasets list"
      ]
    },
    {
      "cell_type": "code",
      "execution_count": 3,
      "metadata": {
        "colab": {
          "base_uri": "https://localhost:8080/"
        },
        "id": "Dos1hg6pFnfe",
        "outputId": "417ec7f6-844f-460c-98ab-bda28eefc3b6"
      },
      "outputs": [
        {
          "output_type": "stream",
          "name": "stdout",
          "text": [
            "Downloading rice-image-dataset.zip to /content\n",
            " 91% 200M/219M [00:02<00:00, 87.4MB/s]\n",
            "100% 219M/219M [00:02<00:00, 103MB/s] \n"
          ]
        }
      ],
      "source": [
        "!kaggle datasets download -d muratkokludataset/rice-image-dataset"
      ]
    },
    {
      "cell_type": "markdown",
      "metadata": {
        "id": "qCMJ9GOjHlPc"
      },
      "source": [
        "## Extract Dataset to new Directory"
      ]
    },
    {
      "cell_type": "code",
      "execution_count": 4,
      "metadata": {
        "id": "F4ZuA1-WEgs2"
      },
      "outputs": [],
      "source": [
        "import os, zipfile"
      ]
    },
    {
      "cell_type": "code",
      "execution_count": 5,
      "metadata": {
        "id": "C6-3IM0hFX6e"
      },
      "outputs": [],
      "source": [
        "zipPath = '../content/rice-image-dataset.zip'\n",
        "zipFile = zipfile.ZipFile(zipPath, 'r')\n",
        "zipFile.extractall('../content/RiceDataset/')\n",
        "zipFile.close()"
      ]
    },
    {
      "cell_type": "code",
      "execution_count": 6,
      "metadata": {
        "id": "Ydc0-cBHHQoF"
      },
      "outputs": [],
      "source": [
        "FILE_PATH = '../content/RiceDataset/Rice_Image_Dataset/'"
      ]
    },
    {
      "cell_type": "markdown",
      "metadata": {
        "id": "ah6YXXtAHqT8"
      },
      "source": [
        "## ImageDataGenerator"
      ]
    },
    {
      "cell_type": "code",
      "execution_count": 7,
      "metadata": {
        "id": "tWKejjsQHcLc"
      },
      "outputs": [],
      "source": [
        "from tensorflow.keras.preprocessing.image import ImageDataGenerator"
      ]
    },
    {
      "cell_type": "code",
      "execution_count": 31,
      "metadata": {
        "id": "BPIa2OT6JMfI"
      },
      "outputs": [],
      "source": [
        "IMG_HEIGHT = 150\n",
        "IMG_WIDTH = 150\n",
        "BATCH_SIZE = 64"
      ]
    },
    {
      "cell_type": "code",
      "execution_count": 32,
      "metadata": {
        "colab": {
          "base_uri": "https://localhost:8080/"
        },
        "id": "6TXf3iaQHYb9",
        "outputId": "02cb6981-1ff1-4211-e08b-99e9906c76a3"
      },
      "outputs": [
        {
          "output_type": "stream",
          "name": "stdout",
          "text": [
            "Found 60000 images belonging to 5 classes.\n",
            "Found 15000 images belonging to 5 classes.\n"
          ]
        }
      ],
      "source": [
        "train_datagen = ImageDataGenerator(\n",
        "    rescale=1.0/255,\n",
        "    rotation_range = 20,\n",
        "    horizontal_flip = True,\n",
        "    shear_range = 0.2,\n",
        "    fill_mode = 'nearest',\n",
        "    validation_split = 0.2\n",
        ")\n",
        "\n",
        "val_datagen = ImageDataGenerator(\n",
        "    rescale=1.0/255,\n",
        "    validation_split = 0.2\n",
        ")\n",
        "\n",
        "train_generator = train_datagen.flow_from_directory(\n",
        "    FILE_PATH,\n",
        "    target_size = (IMG_HEIGHT, IMG_WIDTH),\n",
        "    batch_size = BATCH_SIZE,\n",
        "    class_mode = 'categorical',\n",
        "    subset='training'\n",
        ")\n",
        "\n",
        "val_generator = val_datagen.flow_from_directory(\n",
        "    FILE_PATH,\n",
        "    target_size = (IMG_HEIGHT, IMG_WIDTH),\n",
        "    batch_size = BATCH_SIZE,\n",
        "    class_mode = 'categorical',\n",
        "    subset='validation'\n",
        ")\n",
        "\n",
        "target_names = ['Arborio', 'Basmati', 'Ipsala', 'Jasmine', 'Karacadag']"
      ]
    },
    {
      "cell_type": "markdown",
      "metadata": {
        "id": "kEHV_JhAQ1c8"
      },
      "source": [
        "## Model Architecture"
      ]
    },
    {
      "cell_type": "code",
      "execution_count": 23,
      "metadata": {
        "id": "jzY5mMy2MBZv"
      },
      "outputs": [],
      "source": [
        "# from tensorflow.keras.applications import ResNet50, ResNet152V2#MobileNetV2\n",
        "from tensorflow.keras.models import Sequential\n",
        "from tensorflow.keras.layers import Flatten, Dense, Conv2D, MaxPooling2D, Dropout, BatchNormalization\n",
        "# from tensorflow.keras.layers.experimental.preprocessing import Rescaling\n",
        "# from tensorflow.keras.layers import Input"
      ]
    },
    {
      "cell_type": "code",
      "execution_count": 28,
      "metadata": {
        "id": "ZrnqBml4Qzla"
      },
      "outputs": [],
      "source": [
        "model = Sequential([\n",
        "    # Rescaling(1./255),\n",
        "    Conv2D(16, 3, padding='same', activation='relu'),\n",
        "    MaxPooling2D(),\n",
        "    BatchNormalization(),\n",
        "\n",
        "    Conv2D(32, 3, padding='same', activation='relu'),\n",
        "    MaxPooling2D(),\n",
        "    BatchNormalization(),\n",
        "\n",
        "    Conv2D(64, 3, padding='same', activation='relu'),\n",
        "    MaxPooling2D(),\n",
        "    BatchNormalization(),\n",
        "    Dropout(0.2),\n",
        "\n",
        "    Flatten(),\n",
        "    Dense(128, activation='relu'),\n",
        "    Dropout(0.2),\n",
        "    Dense(64, activation='relu'),\n",
        "    Dropout(0.2),\n",
        "    Dense(5, activation='softmax')\n",
        "])\n",
        "\n",
        "# model.layers[0].trainable = False"
      ]
    },
    {
      "cell_type": "code",
      "source": [
        "model = Sequential([\n",
        "    Conv2D(filters = 16, kernel_size = (5, 5), padding = 'Same', activation = 'relu', input_shape = (IMG_HEIGHT, IMG_WIDTH, 3)),\n",
        "    MaxPooling2D(pool_size = (2,2)),\n",
        "    Dropout(0.2),\n",
        "    BatchNormalization(),\n",
        "\n",
        "    Conv2D(filters = 32, kernel_size = (3, 3), padding = 'Same', activation = 'relu'),\n",
        "    MaxPooling2D(pool_size = (2,2), strides = (2, 2)),\n",
        "    Dropout(0.2),\n",
        "\n",
        "    Conv2D(filters = 64, kernel_size = (3, 3), padding = 'Same', activation = 'relu'),\n",
        "    MaxPooling2D(pool_size = (2,2), strides = (2, 2)),\n",
        "    Dropout(0.2),\n",
        "\n",
        "    Flatten(),\n",
        "    Dense(64, activation='relu'),\n",
        "    Dropout(0.2),\n",
        "    Dense(5, activation='softmax')\n",
        "])"
      ],
      "metadata": {
        "id": "wpD9r7ACQVtF"
      },
      "execution_count": 39,
      "outputs": []
    },
    {
      "cell_type": "code",
      "execution_count": 40,
      "metadata": {
        "id": "7OSjFmaSZsvs"
      },
      "outputs": [],
      "source": [
        "model.compile(\n",
        "    optimizer='adam',\n",
        "    loss='categorical_crossentropy',\n",
        "    metrics=['accuracy']\n",
        ")"
      ]
    },
    {
      "cell_type": "code",
      "execution_count": 19,
      "metadata": {
        "id": "VTLVGdKeXOWk"
      },
      "outputs": [],
      "source": [
        "from tensorflow.keras.callbacks import Callback, EarlyStopping"
      ]
    },
    {
      "cell_type": "code",
      "execution_count": 21,
      "metadata": {
        "id": "Ma8ekiCiXMUG"
      },
      "outputs": [],
      "source": [
        "#Callback\n",
        "\n",
        "class TargetCallback(Callback):\n",
        "  def on_epoch_end(self, epoch, logs={}):\n",
        "    if(logs.get('accuracy') >= 0.95 and logs.get('val_accuracy') >= 0.95):\n",
        "      print(\"\\nAccuracy and Validation Accuracy has reached 95%!\\nStop Train!\")\n",
        "      self.model.stop_training = True\n",
        "Target = TargetCallback()\n",
        "\n",
        "EarlyStop = EarlyStopping(\n",
        "    monitor = 'val_loss',\n",
        "    min_delta = 0.0001,\n",
        "    patience = 5,\n",
        "    verbose = 1,\n",
        "    mode = 'auto'\n",
        ")"
      ]
    },
    {
      "cell_type": "code",
      "execution_count": 41,
      "metadata": {
        "colab": {
          "base_uri": "https://localhost:8080/"
        },
        "id": "wpdreLarZJ3E",
        "outputId": "8ef75810-e4a7-44d5-cc5d-2ee48da284e7"
      },
      "outputs": [
        {
          "output_type": "stream",
          "name": "stdout",
          "text": [
            "Epoch 1/100\n",
            "938/938 [==============================] - 1297s 1s/step - loss: 0.2447 - accuracy: 0.9134 - val_loss: 0.0988 - val_accuracy: 0.9626\n",
            "Epoch 2/100\n",
            "938/938 [==============================] - ETA: 0s - loss: 0.1264 - accuracy: 0.9588\n",
            "Accuracy and Validation Accuracy has reached 95%!\n",
            "Stop Train!\n",
            "938/938 [==============================] - 1299s 1s/step - loss: 0.1264 - accuracy: 0.9588 - val_loss: 0.0905 - val_accuracy: 0.9681\n"
          ]
        }
      ],
      "source": [
        "History = model.fit(\n",
        "    train_generator,\n",
        "    epochs =  100,\n",
        "    validation_data = val_generator,\n",
        "    callbacks = [Target, EarlyStop],\n",
        "    verbose = 1\n",
        ")"
      ]
    },
    {
      "cell_type": "code",
      "execution_count": 42,
      "metadata": {
        "id": "ux2EImvjbv27"
      },
      "outputs": [],
      "source": [
        "import matplotlib.pyplot as plt"
      ]
    },
    {
      "cell_type": "code",
      "execution_count": 43,
      "metadata": {
        "id": "mfyDSTxqbQeE",
        "colab": {
          "base_uri": "https://localhost:8080/",
          "height": 608
        },
        "outputId": "a67e454e-8258-4e4d-984c-bb32484bb7b7"
      },
      "outputs": [
        {
          "output_type": "stream",
          "name": "stdout",
          "text": [
            "Loss with Val_Loss Graph\n"
          ]
        },
        {
          "output_type": "display_data",
          "data": {
            "text/plain": [
              "<Figure size 432x288 with 1 Axes>"
            ],
            "image/png": "[encoded data removed]"
          },
          "metadata": {
            "needs_background": "light"
          }
        },
        {
          "output_type": "stream",
          "name": "stdout",
          "text": [
            "Acc with Val_Acc Graph\n"
          ]
        },
        {
          "output_type": "display_data",
          "data": {
            "text/plain": [
              "<Figure size 432x288 with 1 Axes>"
            ],
            "image/png": "[encoded data removed]"
          },
          "metadata": {
            "needs_background": "light"
          }
        }
      ],
      "source": [
        "print(\"Loss with Val_Loss Graph\")\n",
        "plt.plot(History.history['loss'])\n",
        "plt.plot(History.history['val_loss'])\n",
        "plt.title('Model Loss')\n",
        "plt.ylabel('Loss')\n",
        "plt.xlabel('Epochs')\n",
        "plt.legend(['train', 'test'], loc = 'upper right')\n",
        "plt.show()\n",
        "\n",
        "print(\"Acc with Val_Acc Graph\")\n",
        "plt.plot(History.history['accuracy'])\n",
        "plt.plot(History.history['val_accuracy'])\n",
        "plt.title('Model Accuracy')\n",
        "plt.ylabel('Accuracy')\n",
        "plt.xlabel('Epoch')\n",
        "plt.legend(['train', 'test'], loc='lower right')\n",
        "plt.show()"
      ]
    },
    {
      "cell_type": "code",
      "execution_count": 44,
      "metadata": {
        "id": "skGdAG_McVvt"
      },
      "outputs": [],
      "source": [
        "import tensorflow as tf\n",
        "import pathlib"
      ]
    },
    {
      "cell_type": "markdown",
      "metadata": {
        "id": "ISj3k22LsE5J"
      },
      "source": [
        "## Save Model and convert to TFLite\n"
      ]
    },
    {
      "cell_type": "code",
      "execution_count": 45,
      "metadata": {
        "id": "SwvkvIVNb0rD",
        "colab": {
          "base_uri": "https://localhost:8080/"
        },
        "outputId": "afa3cd3f-ab4c-425c-8874-8c9adcc11c21"
      },
      "outputs": [
        {
          "output_type": "execute_result",
          "data": {
            "text/plain": [
              "5411836"
            ]
          },
          "metadata": {},
          "execution_count": 45
        }
      ],
      "source": [
        "export_dir = 'saved_model/'\n",
        "tf.saved_model.save(model, export_dir)\n",
        "\n",
        "converter = tf.lite.TFLiteConverter.from_saved_model(export_dir)\n",
        "tflite_model = converter.convert()\n",
        "\n",
        "tflite_model_file = pathlib.Path('RiceModel.tflite')\n",
        "tflite_model_file.write_bytes(tflite_model)"
      ]
    }
  ],
  "metadata": {
    "colab": {
      "collapsed_sections": [
        "0Et3PVTrHg1P",
        "qCMJ9GOjHlPc"
      ],
      "provenance": []
    },
    "kernelspec": {
      "display_name": "Python 3",
      "name": "python3"
    },
    "language_info": {
      "name": "python"
    }
  },
  "nbformat": 4,
  "nbformat_minor": 0
}
